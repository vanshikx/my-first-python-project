{
 "cells": [
  {
   "cell_type": "code",
   "execution_count": 2,
   "id": "fc7dfd17",
   "metadata": {
    "scrolled": true
   },
   "outputs": [
    {
     "name": "stdout",
     "output_type": "stream",
     "text": [
      "Please enter your first number1\n",
      "Please use the operator+\n",
      "Please enter your second number3\n",
      "4\n"
     ]
    }
   ],
   "source": [
    "first  = input(\"Please enter your first number\")\n",
    "operator = input(\"Please use the operator\")\n",
    "second = input (\"Please enter your second number\")\n",
    "if operator == \"+\" :\n",
    "    print( int(first) + int(second))\n",
    "elif operator == \"-\" :\n",
    "    print(int(first) - int(second))\n",
    "elif operator == \"/\" :\n",
    "    print( int(first) / int(second))\n",
    "elif operator == \"*\" :\n",
    "    print( int(first) * int(second))\n",
    "else :\n",
    "    print(\" error\")\n"
   ]
  },
  {
   "cell_type": "code",
   "execution_count": null,
   "id": "5aba66bc",
   "metadata": {},
   "outputs": [],
   "source": []
  }
 ],
 "metadata": {
  "kernelspec": {
   "display_name": "Python 3 (ipykernel)",
   "language": "python",
   "name": "python3"
  },
  "language_info": {
   "codemirror_mode": {
    "name": "ipython",
    "version": 3
   },
   "file_extension": ".py",
   "mimetype": "text/x-python",
   "name": "python",
   "nbconvert_exporter": "python",
   "pygments_lexer": "ipython3",
   "version": "3.11.4"
  }
 },
 "nbformat": 4,
 "nbformat_minor": 5
}
